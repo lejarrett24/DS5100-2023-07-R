{
 "cells": [
  {
   "cell_type": "code",
   "execution_count": 29,
   "id": "344e7df5-b0fe-46a7-9c0a-fcf712e594ba",
   "metadata": {},
   "outputs": [
    {
     "name": "stdout",
     "output_type": "stream",
     "text": [
      "6\n",
      "alv aro\n"
     ]
    }
   ],
   "source": [
    "#Exercise 2.1\n",
    "word = 'alvaro'\n",
    "print(len(word))\n",
    "print(word[:3],word[-3:])"
   ]
  },
  {
   "cell_type": "code",
   "execution_count": 12,
   "id": "59428ca6-41fb-45f1-93a6-f8fce8d72930",
   "metadata": {},
   "outputs": [
    {
     "name": "stdout",
     "output_type": "stream",
     "text": [
      "1\n"
     ]
    }
   ],
   "source": [
    "#Exercise 2.2\n",
    "list = [0,1,2]\n",
    "print(list[1])"
   ]
  },
  {
   "cell_type": "code",
   "execution_count": 15,
   "id": "e1d026af-5d5d-49c4-a6b7-f6b8a1780359",
   "metadata": {},
   "outputs": [
    {
     "ename": "AttributeError",
     "evalue": "'tuple' object has no attribute 'append'",
     "output_type": "error",
     "traceback": [
      "\u001b[0;31m---------------------------------------------------------------------------\u001b[0m",
      "\u001b[0;31mAttributeError\u001b[0m                            Traceback (most recent call last)",
      "\u001b[0;32m/var/folders/f3/t620s12d7kd1yjwmczc5378w0000gn/T/ipykernel_44986/780211314.py\u001b[0m in \u001b[0;36m<module>\u001b[0;34m\u001b[0m\n\u001b[1;32m      4\u001b[0m \u001b[0mmytuple\u001b[0m \u001b[0;34m=\u001b[0m \u001b[0;34m(\u001b[0m\u001b[0;36m1\u001b[0m\u001b[0;34m,\u001b[0m\u001b[0;36m2\u001b[0m\u001b[0;34m,\u001b[0m\u001b[0;36m3\u001b[0m\u001b[0;34m)\u001b[0m\u001b[0;34m\u001b[0m\u001b[0;34m\u001b[0m\u001b[0m\n\u001b[1;32m      5\u001b[0m \u001b[0mmytuple\u001b[0m \u001b[0;34m=\u001b[0m \u001b[0mtuple\u001b[0m\u001b[0;34m(\u001b[0m\u001b[0;34m[\u001b[0m\u001b[0;36m1\u001b[0m\u001b[0;34m,\u001b[0m\u001b[0;36m2\u001b[0m\u001b[0;34m,\u001b[0m\u001b[0;36m3\u001b[0m\u001b[0;34m]\u001b[0m\u001b[0;34m)\u001b[0m\u001b[0;34m\u001b[0m\u001b[0;34m\u001b[0m\u001b[0m\n\u001b[0;32m----> 6\u001b[0;31m \u001b[0mmytuple\u001b[0m\u001b[0;34m.\u001b[0m\u001b[0mappend\u001b[0m\u001b[0;34m(\u001b[0m\u001b[0;36m4\u001b[0m\u001b[0;34m)\u001b[0m\u001b[0;34m\u001b[0m\u001b[0;34m\u001b[0m\u001b[0m\n\u001b[0m",
      "\u001b[0;31mAttributeError\u001b[0m: 'tuple' object has no attribute 'append'"
     ]
    }
   ],
   "source": [
    "#Exercise 2.3: create a tuple with three values, then append a four value\n",
    "mytuple = 1, 2, 3\n",
    "mytuple = (1,2,3)\n",
    "mytuple = tuple([1,2,3])\n",
    "mytuple.append(4) ## should be immutable"
   ]
  },
  {
   "cell_type": "code",
   "execution_count": 18,
   "id": "37409ca5-4d70-4a61-96b3-9eea57bf246b",
   "metadata": {},
   "outputs": [
    {
     "data": {
      "text/plain": [
       "True"
      ]
     },
     "execution_count": 18,
     "metadata": {},
     "output_type": "execute_result"
    }
   ],
   "source": [
    "#Exericise 2.4\n",
    "val = 'ERROR'\n",
    "levels = {'WARN', 'ERROR','CRITICAL'}\n",
    "val in levels"
   ]
  },
  {
   "cell_type": "code",
   "execution_count": 23,
   "id": "c0c5076f-b38b-4f26-bda0-4162570bf9a5",
   "metadata": {},
   "outputs": [
    {
     "data": {
      "text/plain": [
       "{'CRITICAL', 'ERROR', 'WARN'}"
      ]
     },
     "execution_count": 23,
     "metadata": {},
     "output_type": "execute_result"
    }
   ],
   "source": [
    "levels = {'WARN', 'ERROR','CRITICAL','WARN','ERROR','CRITICAL'}\n",
    "levels  #will remove duplicates"
   ]
  },
  {
   "cell_type": "code",
   "execution_count": 36,
   "id": "5d6fea96-28f1-4aa1-80b2-9667e610711f",
   "metadata": {},
   "outputs": [
    {
     "name": "stdout",
     "output_type": "stream",
     "text": [
      "dict1[a] = 1\n"
     ]
    },
    {
     "data": {
      "text/plain": [
       "dict_keys(['a', 'b', 'c'])"
      ]
     },
     "execution_count": 36,
     "metadata": {},
     "output_type": "execute_result"
    }
   ],
   "source": [
    "#2.5 Create a dict containing at least three key-value pairs; \n",
    "#use get() to index the dict with one of the keys to extract the corresponding values\n",
    "#Then, store the key in a list and print the list\n",
    "dict1 = {\n",
    "    'a': 1,\n",
    "    'b': 2,\n",
    "    'c': 3\n",
    "}\n",
    "\n",
    "print('dict1[a] =', dict1.get('a'))\n",
    "dict1.keys()\n",
    "#names = list(dict1.keys())\n",
    "#print('names:', names)\n",
    "#type(dict1.keys()), type(names))"
   ]
  },
  {
   "cell_type": "code",
   "execution_count": 56,
   "id": "f900a882-462c-4a83-8909-7bdc14ddb69b",
   "metadata": {},
   "outputs": [
    {
     "data": {
      "text/plain": [
       "['brown', 'dogs', 'fox', 'jumped', 'laxy', 'over', 'quick', 'the']"
      ]
     },
     "execution_count": 56,
     "metadata": {},
     "output_type": "execute_result"
    }
   ],
   "source": [
    "#2.6 convert the following senetence into a set of lowercase words sorted alphabetically\n",
    "sentence = \"The quick brown fox jumped over the laxy dogs.\"\n",
    "sentence1 = sentence.replace('.','')\n",
    "sentence2 = sentence1.lower()\n",
    "sentence3 = sentence2.split()\n",
    "myset1 = set(sentence3)\n",
    "myset2 = sorted(myset1)\n",
    "myset2\n",
    "#sorted(sentence2)\n",
    "#sorted(set(sentence.replace('.','').lower.split())"
   ]
  }
 ],
 "metadata": {
  "kernelspec": {
   "display_name": "Python 3 (ipykernel)",
   "language": "python",
   "name": "python3"
  },
  "language_info": {
   "codemirror_mode": {
    "name": "ipython",
    "version": 3
   },
   "file_extension": ".py",
   "mimetype": "text/x-python",
   "name": "python",
   "nbconvert_exporter": "python",
   "pygments_lexer": "ipython3",
   "version": "3.9.13"
  }
 },
 "nbformat": 4,
 "nbformat_minor": 5
}
